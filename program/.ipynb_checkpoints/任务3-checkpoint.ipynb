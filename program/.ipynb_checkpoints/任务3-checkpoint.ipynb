{
 "cells": [
  {
   "cell_type": "markdown",
   "id": "4d7f0b9e",
   "metadata": {},
   "source": [
    "## 任务3.1\n",
    "\n",
    "任务 3.1 在同一画布中，绘制反映两种流失情况下不同年龄客户量占比的\n",
    "折线图，x 轴为年龄，y 轴为占比数值。"
   ]
  },
  {
   "cell_type": "code",
   "execution_count": 51,
   "id": "ce8bcf1f",
   "metadata": {},
   "outputs": [],
   "source": [
    "import pandas as pd\n",
    "import matplotlib.pyplot as plt\n",
    "\n",
    "plt.rcParams['font.sans-serif'] = ['SimHei']"
   ]
  },
  {
   "cell_type": "code",
   "execution_count": 52,
   "id": "065f798c",
   "metadata": {},
   "outputs": [],
   "source": [
    "df_long = pd.read_excel('../result/result1_2.xlsx')"
   ]
  },
  {
   "cell_type": "code",
   "execution_count": 53,
   "id": "23ee507c",
   "metadata": {},
   "outputs": [
    {
     "data": {
      "text/html": [
       "<div>\n",
       "<style scoped>\n",
       "    .dataframe tbody tr th:only-of-type {\n",
       "        vertical-align: middle;\n",
       "    }\n",
       "\n",
       "    .dataframe tbody tr th {\n",
       "        vertical-align: top;\n",
       "    }\n",
       "\n",
       "    .dataframe thead th {\n",
       "        text-align: right;\n",
       "    }\n",
       "</style>\n",
       "<table border=\"1\" class=\"dataframe\">\n",
       "  <thead>\n",
       "    <tr style=\"text-align: right;\">\n",
       "      <th></th>\n",
       "      <th>CustomerId</th>\n",
       "      <th>CreditScore</th>\n",
       "      <th>Gender</th>\n",
       "      <th>Age</th>\n",
       "      <th>Tenure</th>\n",
       "      <th>Balance</th>\n",
       "      <th>NumOfProducts</th>\n",
       "      <th>HasCrCard</th>\n",
       "      <th>IsActiveMember</th>\n",
       "      <th>EstimatedSalary</th>\n",
       "      <th>Exited</th>\n",
       "    </tr>\n",
       "  </thead>\n",
       "  <tbody>\n",
       "    <tr>\n",
       "      <th>0</th>\n",
       "      <td>15553251</td>\n",
       "      <td>713</td>\n",
       "      <td>1</td>\n",
       "      <td>52</td>\n",
       "      <td>0</td>\n",
       "      <td>185891.54</td>\n",
       "      <td>1</td>\n",
       "      <td>1</td>\n",
       "      <td>1</td>\n",
       "      <td>46369.57</td>\n",
       "      <td>1</td>\n",
       "    </tr>\n",
       "    <tr>\n",
       "      <th>1</th>\n",
       "      <td>15553256</td>\n",
       "      <td>619</td>\n",
       "      <td>1</td>\n",
       "      <td>41</td>\n",
       "      <td>8</td>\n",
       "      <td>0.00</td>\n",
       "      <td>3</td>\n",
       "      <td>1</td>\n",
       "      <td>1</td>\n",
       "      <td>79866.73</td>\n",
       "      <td>1</td>\n",
       "    </tr>\n",
       "    <tr>\n",
       "      <th>2</th>\n",
       "      <td>15553283</td>\n",
       "      <td>603</td>\n",
       "      <td>1</td>\n",
       "      <td>42</td>\n",
       "      <td>8</td>\n",
       "      <td>91611.12</td>\n",
       "      <td>1</td>\n",
       "      <td>0</td>\n",
       "      <td>0</td>\n",
       "      <td>144675.30</td>\n",
       "      <td>1</td>\n",
       "    </tr>\n",
       "    <tr>\n",
       "      <th>3</th>\n",
       "      <td>15553308</td>\n",
       "      <td>589</td>\n",
       "      <td>1</td>\n",
       "      <td>61</td>\n",
       "      <td>1</td>\n",
       "      <td>0.00</td>\n",
       "      <td>1</td>\n",
       "      <td>1</td>\n",
       "      <td>0</td>\n",
       "      <td>61108.56</td>\n",
       "      <td>1</td>\n",
       "    </tr>\n",
       "    <tr>\n",
       "      <th>4</th>\n",
       "      <td>15553387</td>\n",
       "      <td>687</td>\n",
       "      <td>1</td>\n",
       "      <td>39</td>\n",
       "      <td>2</td>\n",
       "      <td>0.00</td>\n",
       "      <td>3</td>\n",
       "      <td>0</td>\n",
       "      <td>0</td>\n",
       "      <td>188150.60</td>\n",
       "      <td>1</td>\n",
       "    </tr>\n",
       "  </tbody>\n",
       "</table>\n",
       "</div>"
      ],
      "text/plain": [
       "   CustomerId  CreditScore  Gender  Age  Tenure    Balance  NumOfProducts  \\\n",
       "0    15553251          713       1   52       0  185891.54              1   \n",
       "1    15553256          619       1   41       8       0.00              3   \n",
       "2    15553283          603       1   42       8   91611.12              1   \n",
       "3    15553308          589       1   61       1       0.00              1   \n",
       "4    15553387          687       1   39       2       0.00              3   \n",
       "\n",
       "   HasCrCard  IsActiveMember  EstimatedSalary  Exited  \n",
       "0          1               1         46369.57       1  \n",
       "1          1               1         79866.73       1  \n",
       "2          0               0        144675.30       1  \n",
       "3          1               0         61108.56       1  \n",
       "4          0               0        188150.60       1  "
      ]
     },
     "execution_count": 53,
     "metadata": {},
     "output_type": "execute_result"
    }
   ],
   "source": [
    "df_long.head()"
   ]
  },
  {
   "cell_type": "code",
   "execution_count": 54,
   "id": "c1c3a66c",
   "metadata": {},
   "outputs": [
    {
     "name": "stdout",
     "output_type": "stream",
     "text": [
      "1837\n",
      "7343\n"
     ]
    }
   ],
   "source": [
    "df1 = df_long[df_long['Exited']==1]\n",
    "df2 = df_long[df_long['Exited']==0]\n",
    "print(len(df1))\n",
    "print(len(df2))"
   ]
  },
  {
   "cell_type": "code",
   "execution_count": 55,
   "id": "9ccb131b",
   "metadata": {},
   "outputs": [
    {
     "data": {
      "text/html": [
       "<div>\n",
       "<style scoped>\n",
       "    .dataframe tbody tr th:only-of-type {\n",
       "        vertical-align: middle;\n",
       "    }\n",
       "\n",
       "    .dataframe tbody tr th {\n",
       "        vertical-align: top;\n",
       "    }\n",
       "\n",
       "    .dataframe thead th {\n",
       "        text-align: right;\n",
       "    }\n",
       "</style>\n",
       "<table border=\"1\" class=\"dataframe\">\n",
       "  <thead>\n",
       "    <tr style=\"text-align: right;\">\n",
       "      <th></th>\n",
       "      <th>CustomerId</th>\n",
       "      <th>CreditScore</th>\n",
       "      <th>Gender</th>\n",
       "      <th>Age</th>\n",
       "      <th>Tenure</th>\n",
       "      <th>Balance</th>\n",
       "      <th>NumOfProducts</th>\n",
       "      <th>HasCrCard</th>\n",
       "      <th>IsActiveMember</th>\n",
       "      <th>EstimatedSalary</th>\n",
       "      <th>Exited</th>\n",
       "    </tr>\n",
       "  </thead>\n",
       "  <tbody>\n",
       "    <tr>\n",
       "      <th>0</th>\n",
       "      <td>15553251</td>\n",
       "      <td>713</td>\n",
       "      <td>1</td>\n",
       "      <td>52</td>\n",
       "      <td>0</td>\n",
       "      <td>185891.54</td>\n",
       "      <td>1</td>\n",
       "      <td>1</td>\n",
       "      <td>1</td>\n",
       "      <td>46369.57</td>\n",
       "      <td>1</td>\n",
       "    </tr>\n",
       "    <tr>\n",
       "      <th>1</th>\n",
       "      <td>15553256</td>\n",
       "      <td>619</td>\n",
       "      <td>1</td>\n",
       "      <td>41</td>\n",
       "      <td>8</td>\n",
       "      <td>0.00</td>\n",
       "      <td>3</td>\n",
       "      <td>1</td>\n",
       "      <td>1</td>\n",
       "      <td>79866.73</td>\n",
       "      <td>1</td>\n",
       "    </tr>\n",
       "    <tr>\n",
       "      <th>2</th>\n",
       "      <td>15553283</td>\n",
       "      <td>603</td>\n",
       "      <td>1</td>\n",
       "      <td>42</td>\n",
       "      <td>8</td>\n",
       "      <td>91611.12</td>\n",
       "      <td>1</td>\n",
       "      <td>0</td>\n",
       "      <td>0</td>\n",
       "      <td>144675.30</td>\n",
       "      <td>1</td>\n",
       "    </tr>\n",
       "  </tbody>\n",
       "</table>\n",
       "</div>"
      ],
      "text/plain": [
       "   CustomerId  CreditScore  Gender  Age  Tenure    Balance  NumOfProducts  \\\n",
       "0    15553251          713       1   52       0  185891.54              1   \n",
       "1    15553256          619       1   41       8       0.00              3   \n",
       "2    15553283          603       1   42       8   91611.12              1   \n",
       "\n",
       "   HasCrCard  IsActiveMember  EstimatedSalary  Exited  \n",
       "0          1               1         46369.57       1  \n",
       "1          1               1         79866.73       1  \n",
       "2          0               0        144675.30       1  "
      ]
     },
     "execution_count": 55,
     "metadata": {},
     "output_type": "execute_result"
    }
   ],
   "source": [
    "df1.head(3)"
   ]
  },
  {
   "cell_type": "code",
   "execution_count": 56,
   "id": "d0f3e4f1",
   "metadata": {},
   "outputs": [],
   "source": [
    "df1_pivot = df1.pivot_table(index='Age', aggfunc='count')"
   ]
  },
  {
   "cell_type": "code",
   "execution_count": 57,
   "id": "7e9b91e4",
   "metadata": {},
   "outputs": [],
   "source": [
    "df2_pivot = df2.pivot_table(index='Age', aggfunc='count')"
   ]
  },
  {
   "cell_type": "code",
   "execution_count": 58,
   "id": "3fc77902",
   "metadata": {},
   "outputs": [
    {
     "data": {
      "image/png": "[encoded data removed]",
      "text/plain": [
       "<Figure size 640x480 with 1 Axes>"
      ]
     },
     "metadata": {},
     "output_type": "display_data"
    }
   ],
   "source": [
    "plt.figure()\n",
    "plt.plot(df1_pivot.index, df1_pivot['Exited']/1837, label='已流失')\n",
    "plt.plot(df2_pivot.index, df2_pivot['Exited']/7343, label='未流失')\n",
    "plt.legend()\n",
    "plt.xlabel('年龄')\n",
    "plt.ylabel('所占比')\n",
    "plt.grid()\n",
    "plt.title('不同流失情况各年龄所占比')\n",
    "plt.savefig('../image/不同流失情况各年龄所占比.png', dpi=600)\n",
    "plt.show()"
   ]
  },
  {
   "cell_type": "markdown",
   "id": "18397f36",
   "metadata": {},
   "source": [
    "## 任务3.2\n",
    "\n",
    "任务 3.2 在同一画布中，绘制反映两种流失情况下客户信用资格与年龄分\n",
    "布的散点图，x 轴为年龄，y 轴为信用资格。"
   ]
  },
  {
   "cell_type": "code",
   "execution_count": 59,
   "id": "2f8e2448",
   "metadata": {},
   "outputs": [],
   "source": [
    "df1_pivot = df1.pivot_table(index='Age', aggfunc='mean')\n",
    "df2_pivot = df2.pivot_table(index='Age', aggfunc='mean')"
   ]
  },
  {
   "cell_type": "code",
   "execution_count": 60,
   "id": "381674d0",
   "metadata": {},
   "outputs": [
    {
     "data": {
      "text/html": [
       "<div>\n",
       "<style scoped>\n",
       "    .dataframe tbody tr th:only-of-type {\n",
       "        vertical-align: middle;\n",
       "    }\n",
       "\n",
       "    .dataframe tbody tr th {\n",
       "        vertical-align: top;\n",
       "    }\n",
       "\n",
       "    .dataframe thead th {\n",
       "        text-align: right;\n",
       "    }\n",
       "</style>\n",
       "<table border=\"1\" class=\"dataframe\">\n",
       "  <thead>\n",
       "    <tr style=\"text-align: right;\">\n",
       "      <th></th>\n",
       "      <th>Balance</th>\n",
       "      <th>CreditScore</th>\n",
       "      <th>CustomerId</th>\n",
       "      <th>EstimatedSalary</th>\n",
       "      <th>Exited</th>\n",
       "      <th>Gender</th>\n",
       "      <th>HasCrCard</th>\n",
       "      <th>IsActiveMember</th>\n",
       "      <th>NumOfProducts</th>\n",
       "      <th>Tenure</th>\n",
       "    </tr>\n",
       "    <tr>\n",
       "      <th>Age</th>\n",
       "      <th></th>\n",
       "      <th></th>\n",
       "      <th></th>\n",
       "      <th></th>\n",
       "      <th></th>\n",
       "      <th></th>\n",
       "      <th></th>\n",
       "      <th></th>\n",
       "      <th></th>\n",
       "      <th></th>\n",
       "    </tr>\n",
       "  </thead>\n",
       "  <tbody>\n",
       "    <tr>\n",
       "      <th>18</th>\n",
       "      <td>81018.321875</td>\n",
       "      <td>680.562500</td>\n",
       "      <td>1.569584e+07</td>\n",
       "      <td>76826.219375</td>\n",
       "      <td>0</td>\n",
       "      <td>0.250000</td>\n",
       "      <td>0.687500</td>\n",
       "      <td>0.562500</td>\n",
       "      <td>1.562500</td>\n",
       "      <td>4.750000</td>\n",
       "    </tr>\n",
       "    <tr>\n",
       "      <th>19</th>\n",
       "      <td>67696.952800</td>\n",
       "      <td>668.920000</td>\n",
       "      <td>1.569768e+07</td>\n",
       "      <td>98217.190000</td>\n",
       "      <td>0</td>\n",
       "      <td>0.320000</td>\n",
       "      <td>0.800000</td>\n",
       "      <td>0.520000</td>\n",
       "      <td>1.400000</td>\n",
       "      <td>4.920000</td>\n",
       "    </tr>\n",
       "    <tr>\n",
       "      <th>20</th>\n",
       "      <td>69381.967222</td>\n",
       "      <td>662.194444</td>\n",
       "      <td>1.569942e+07</td>\n",
       "      <td>98014.077778</td>\n",
       "      <td>0</td>\n",
       "      <td>0.277778</td>\n",
       "      <td>0.694444</td>\n",
       "      <td>0.527778</td>\n",
       "      <td>1.611111</td>\n",
       "      <td>5.166667</td>\n",
       "    </tr>\n",
       "    <tr>\n",
       "      <th>21</th>\n",
       "      <td>71304.826735</td>\n",
       "      <td>648.734694</td>\n",
       "      <td>1.569505e+07</td>\n",
       "      <td>100643.956327</td>\n",
       "      <td>0</td>\n",
       "      <td>0.612245</td>\n",
       "      <td>0.714286</td>\n",
       "      <td>0.612245</td>\n",
       "      <td>1.653061</td>\n",
       "      <td>4.877551</td>\n",
       "    </tr>\n",
       "    <tr>\n",
       "      <th>22</th>\n",
       "      <td>65380.415000</td>\n",
       "      <td>631.757143</td>\n",
       "      <td>1.568421e+07</td>\n",
       "      <td>94744.890000</td>\n",
       "      <td>0</td>\n",
       "      <td>0.514286</td>\n",
       "      <td>0.685714</td>\n",
       "      <td>0.571429</td>\n",
       "      <td>1.528571</td>\n",
       "      <td>5.657143</td>\n",
       "    </tr>\n",
       "    <tr>\n",
       "      <th>...</th>\n",
       "      <td>...</td>\n",
       "      <td>...</td>\n",
       "      <td>...</td>\n",
       "      <td>...</td>\n",
       "      <td>...</td>\n",
       "      <td>...</td>\n",
       "      <td>...</td>\n",
       "      <td>...</td>\n",
       "      <td>...</td>\n",
       "      <td>...</td>\n",
       "    </tr>\n",
       "    <tr>\n",
       "      <th>82</th>\n",
       "      <td>0.000000</td>\n",
       "      <td>700.000000</td>\n",
       "      <td>1.581086e+07</td>\n",
       "      <td>182055.360000</td>\n",
       "      <td>0</td>\n",
       "      <td>1.000000</td>\n",
       "      <td>0.000000</td>\n",
       "      <td>1.000000</td>\n",
       "      <td>2.000000</td>\n",
       "      <td>2.000000</td>\n",
       "    </tr>\n",
       "    <tr>\n",
       "      <th>83</th>\n",
       "      <td>123356.630000</td>\n",
       "      <td>678.000000</td>\n",
       "      <td>1.562164e+07</td>\n",
       "      <td>92934.410000</td>\n",
       "      <td>0</td>\n",
       "      <td>0.000000</td>\n",
       "      <td>0.000000</td>\n",
       "      <td>1.000000</td>\n",
       "      <td>1.000000</td>\n",
       "      <td>6.000000</td>\n",
       "    </tr>\n",
       "    <tr>\n",
       "      <th>84</th>\n",
       "      <td>92242.340000</td>\n",
       "      <td>537.000000</td>\n",
       "      <td>1.579802e+07</td>\n",
       "      <td>186235.980000</td>\n",
       "      <td>0</td>\n",
       "      <td>0.000000</td>\n",
       "      <td>1.000000</td>\n",
       "      <td>1.000000</td>\n",
       "      <td>1.000000</td>\n",
       "      <td>8.000000</td>\n",
       "    </tr>\n",
       "    <tr>\n",
       "      <th>88</th>\n",
       "      <td>0.000000</td>\n",
       "      <td>513.000000</td>\n",
       "      <td>1.581330e+07</td>\n",
       "      <td>52952.240000</td>\n",
       "      <td>0</td>\n",
       "      <td>0.000000</td>\n",
       "      <td>1.000000</td>\n",
       "      <td>1.000000</td>\n",
       "      <td>2.000000</td>\n",
       "      <td>10.000000</td>\n",
       "    </tr>\n",
       "    <tr>\n",
       "      <th>92</th>\n",
       "      <td>123794.775000</td>\n",
       "      <td>729.000000</td>\n",
       "      <td>1.571290e+07</td>\n",
       "      <td>115000.410000</td>\n",
       "      <td>0</td>\n",
       "      <td>0.000000</td>\n",
       "      <td>0.500000</td>\n",
       "      <td>1.000000</td>\n",
       "      <td>1.500000</td>\n",
       "      <td>2.000000</td>\n",
       "    </tr>\n",
       "  </tbody>\n",
       "</table>\n",
       "<p>69 rows × 10 columns</p>\n",
       "</div>"
      ],
      "text/plain": [
       "           Balance  CreditScore    CustomerId  EstimatedSalary  Exited  \\\n",
       "Age                                                                      \n",
       "18    81018.321875   680.562500  1.569584e+07     76826.219375       0   \n",
       "19    67696.952800   668.920000  1.569768e+07     98217.190000       0   \n",
       "20    69381.967222   662.194444  1.569942e+07     98014.077778       0   \n",
       "21    71304.826735   648.734694  1.569505e+07    100643.956327       0   \n",
       "22    65380.415000   631.757143  1.568421e+07     94744.890000       0   \n",
       "..             ...          ...           ...              ...     ...   \n",
       "82        0.000000   700.000000  1.581086e+07    182055.360000       0   \n",
       "83   123356.630000   678.000000  1.562164e+07     92934.410000       0   \n",
       "84    92242.340000   537.000000  1.579802e+07    186235.980000       0   \n",
       "88        0.000000   513.000000  1.581330e+07     52952.240000       0   \n",
       "92   123794.775000   729.000000  1.571290e+07    115000.410000       0   \n",
       "\n",
       "       Gender  HasCrCard  IsActiveMember  NumOfProducts     Tenure  \n",
       "Age                                                                 \n",
       "18   0.250000   0.687500        0.562500       1.562500   4.750000  \n",
       "19   0.320000   0.800000        0.520000       1.400000   4.920000  \n",
       "20   0.277778   0.694444        0.527778       1.611111   5.166667  \n",
       "21   0.612245   0.714286        0.612245       1.653061   4.877551  \n",
       "22   0.514286   0.685714        0.571429       1.528571   5.657143  \n",
       "..        ...        ...             ...            ...        ...  \n",
       "82   1.000000   0.000000        1.000000       2.000000   2.000000  \n",
       "83   0.000000   0.000000        1.000000       1.000000   6.000000  \n",
       "84   0.000000   1.000000        1.000000       1.000000   8.000000  \n",
       "88   0.000000   1.000000        1.000000       2.000000  10.000000  \n",
       "92   0.000000   0.500000        1.000000       1.500000   2.000000  \n",
       "\n",
       "[69 rows x 10 columns]"
      ]
     },
     "execution_count": 60,
     "metadata": {},
     "output_type": "execute_result"
    }
   ],
   "source": [
    "df2.pivot_table(index='Age', aggfunc='mean')"
   ]
  },
  {
   "cell_type": "code",
   "execution_count": 61,
   "id": "126dd46b",
   "metadata": {},
   "outputs": [
    {
     "data": {
      "image/png": "[encoded data removed]",
      "text/plain": [
       "<Figure size 640x480 with 1 Axes>"
      ]
     },
     "metadata": {},
     "output_type": "display_data"
    }
   ],
   "source": [
    "plt.figure()\n",
    "plt.scatter(df1_pivot.index, df1_pivot['CreditScore'], label='已流失')\n",
    "plt.scatter(df2_pivot.index, df2_pivot['CreditScore'], label='未流失')\n",
    "plt.legend()\n",
    "plt.xlabel('年龄')\n",
    "plt.ylabel('信用资格')\n",
    "plt.grid()\n",
    "plt.title('不同流失情况下各年龄客户的信用资格')\n",
    "plt.savefig('../image/不同流失情况下各年龄客户的信用资格', dpi=600)\n",
    "plt.show()"
   ]
  },
  {
   "cell_type": "markdown",
   "id": "49b2cef2",
   "metadata": {},
   "source": [
    "## 任务3.3\n",
    "\n",
    "任务 3.3 构造包含各账号户龄在不同流失情况下的客户量占比透视表（详见表 4），并在同一画布中绘制反映两种流失情况的客户各账号户龄占比量的堆\n",
    "叠柱状图，x 轴为客户的户龄，y 轴为占比量。"
   ]
  },
  {
   "cell_type": "code",
   "execution_count": 62,
   "id": "00c3a031",
   "metadata": {},
   "outputs": [
    {
     "data": {
      "text/plain": [
       "1     212\n",
       "9     197\n",
       "5     196\n",
       "3     187\n",
       "4     186\n",
       "2     180\n",
       "8     178\n",
       "6     178\n",
       "7     149\n",
       "10     89\n",
       "0      85\n",
       "Name: Tenure, dtype: int64"
      ]
     },
     "execution_count": 62,
     "metadata": {},
     "output_type": "execute_result"
    }
   ],
   "source": [
    "df1['Tenure'].value_counts() # 已流失"
   ]
  },
  {
   "cell_type": "code",
   "execution_count": 63,
   "id": "13f1355a",
   "metadata": {},
   "outputs": [
    {
     "data": {
      "text/plain": [
       "7     788\n",
       "2     774\n",
       "8     760\n",
       "5     742\n",
       "1     740\n",
       "3     730\n",
       "4     728\n",
       "9     712\n",
       "6     712\n",
       "10    358\n",
       "0     299\n",
       "Name: Tenure, dtype: int64"
      ]
     },
     "execution_count": 63,
     "metadata": {},
     "output_type": "execute_result"
    }
   ],
   "source": [
    "df2['Tenure'].value_counts() # 未流失"
   ]
  },
  {
   "cell_type": "code",
   "execution_count": 64,
   "id": "669fe9f7",
   "metadata": {},
   "outputs": [
    {
     "data": {
      "text/plain": [
       "2     954\n",
       "1     952\n",
       "8     938\n",
       "5     938\n",
       "7     937\n",
       "3     917\n",
       "4     914\n",
       "9     909\n",
       "6     890\n",
       "10    447\n",
       "0     384\n",
       "Name: Tenure, dtype: int64"
      ]
     },
     "execution_count": 64,
     "metadata": {},
     "output_type": "execute_result"
    }
   ],
   "source": [
    "df_long['Tenure'].value_counts()"
   ]
  },
  {
   "cell_type": "code",
   "execution_count": 65,
   "id": "249cb38b",
   "metadata": {},
   "outputs": [],
   "source": [
    "dict1 = dict(df1['Tenure'].value_counts())\n",
    "dict2 = dict(df2['Tenure'].value_counts())\n",
    "dict3 = dict(df_long['Tenure'].value_counts())"
   ]
  },
  {
   "cell_type": "code",
   "execution_count": 66,
   "id": "9bac4d30",
   "metadata": {},
   "outputs": [],
   "source": [
    "ls1=[]\n",
    "for i in range(0,11):\n",
    "    temp = dict1[i]/dict3[i]\n",
    "    ls1.append(temp)"
   ]
  },
  {
   "cell_type": "code",
   "execution_count": 67,
   "id": "0cf3e14c",
   "metadata": {},
   "outputs": [],
   "source": [
    "ls2=[]\n",
    "for i in range(0,11):\n",
    "    temp = dict2[i]/dict3[i]\n",
    "    ls2.append(temp)"
   ]
  },
  {
   "cell_type": "code",
   "execution_count": 68,
   "id": "9eab1e6c",
   "metadata": {},
   "outputs": [
    {
     "data": {
      "text/plain": [
       "[0.22135416666666666,\n",
       " 0.22268907563025211,\n",
       " 0.18867924528301888,\n",
       " 0.2039258451472192,\n",
       " 0.20350109409190373,\n",
       " 0.208955223880597,\n",
       " 0.2,\n",
       " 0.15901814300960512,\n",
       " 0.18976545842217485,\n",
       " 0.21672167216721672,\n",
       " 0.19910514541387025]"
      ]
     },
     "execution_count": 68,
     "metadata": {},
     "output_type": "execute_result"
    }
   ],
   "source": [
    "ls1"
   ]
  },
  {
   "cell_type": "code",
   "execution_count": 69,
   "id": "95b9890f",
   "metadata": {},
   "outputs": [
    {
     "data": {
      "text/plain": [
       "[0.7786458333333334,\n",
       " 0.7773109243697479,\n",
       " 0.8113207547169812,\n",
       " 0.7960741548527808,\n",
       " 0.7964989059080962,\n",
       " 0.7910447761194029,\n",
       " 0.8,\n",
       " 0.8409818569903948,\n",
       " 0.8102345415778252,\n",
       " 0.7832783278327833,\n",
       " 0.8008948545861297]"
      ]
     },
     "execution_count": 69,
     "metadata": {},
     "output_type": "execute_result"
    }
   ],
   "source": [
    "ls2"
   ]
  },
  {
   "cell_type": "code",
   "execution_count": 70,
   "id": "b83884cf",
   "metadata": {
    "scrolled": false
   },
   "outputs": [
    {
     "data": {
      "image/png": "[encoded data removed]",
      "text/plain": [
       "<Figure size 640x480 with 1 Axes>"
      ]
     },
     "metadata": {},
     "output_type": "display_data"
    }
   ],
   "source": [
    "plt.figure()\n",
    "plt.bar(list(range(0,11)), ls1, label='已流失')\n",
    "plt.bar(list(range(0,11)), ls2, bottom=ls1, label='未流失')\n",
    "plt.legend(ncol=2)\n",
    "plt.ylim(0,1.12)\n",
    "plt.xticks(list(range(0,11)))\n",
    "plt.title('不同流失情况下客户户龄占比')\n",
    "plt.savefig('../image/不同流失情况下客户户龄占比.png', dpi=600)\n",
    "plt.show()"
   ]
  },
  {
   "cell_type": "markdown",
   "id": "9e1301a5",
   "metadata": {},
   "source": [
    "## 3.4(1)\n",
    "\n",
    "(1) 按照表 5 和表 6 对账号户龄和客户金融资产进行划分，并分别进行特征\n",
    "编码作为新的客户特征，其中客户状态存于“Status”列，资产阶段存于“AssetStage”\n",
    "列，编码结果保存到文件“result3.xlsx”中。"
   ]
  },
  {
   "cell_type": "code",
   "execution_count": 71,
   "id": "ac043001",
   "metadata": {},
   "outputs": [],
   "source": [
    "def getstatus(g):\n",
    "    if 0<=g<=3:\n",
    "        return '新客户'\n",
    "    elif 3<g<=6:\n",
    "        return '稳定客户'\n",
    "    elif g>6:\n",
    "        return '老客户'\n",
    "    \n",
    "def getasset(g):\n",
    "    if 0<=g<=50000:\n",
    "        return '低资产'\n",
    "    elif 50000<g<=90000:\n",
    "        return '中下资产'\n",
    "    elif 90000<g<120000:\n",
    "        return '中上资产'\n",
    "    elif g>120000:\n",
    "        return '高资产'"
   ]
  },
  {
   "cell_type": "code",
   "execution_count": 72,
   "id": "ea972781",
   "metadata": {},
   "outputs": [],
   "source": [
    "df_long['Status'] = df_long.apply(lambda x: getstatus(x['Tenure']), axis=1)\n",
    "df_long['AssetStage'] = df_long.apply(lambda x: getasset(x['Balance']), axis=1)"
   ]
  },
  {
   "cell_type": "code",
   "execution_count": 73,
   "id": "d5a63fbb",
   "metadata": {},
   "outputs": [
    {
     "data": {
      "text/html": [
       "<div>\n",
       "<style scoped>\n",
       "    .dataframe tbody tr th:only-of-type {\n",
       "        vertical-align: middle;\n",
       "    }\n",
       "\n",
       "    .dataframe tbody tr th {\n",
       "        vertical-align: top;\n",
       "    }\n",
       "\n",
       "    .dataframe thead th {\n",
       "        text-align: right;\n",
       "    }\n",
       "</style>\n",
       "<table border=\"1\" class=\"dataframe\">\n",
       "  <thead>\n",
       "    <tr style=\"text-align: right;\">\n",
       "      <th></th>\n",
       "      <th>CustomerId</th>\n",
       "      <th>CreditScore</th>\n",
       "      <th>Gender</th>\n",
       "      <th>Age</th>\n",
       "      <th>Tenure</th>\n",
       "      <th>Balance</th>\n",
       "      <th>NumOfProducts</th>\n",
       "      <th>HasCrCard</th>\n",
       "      <th>IsActiveMember</th>\n",
       "      <th>EstimatedSalary</th>\n",
       "      <th>Exited</th>\n",
       "      <th>Status</th>\n",
       "      <th>AssetStage</th>\n",
       "    </tr>\n",
       "  </thead>\n",
       "  <tbody>\n",
       "    <tr>\n",
       "      <th>0</th>\n",
       "      <td>15553251</td>\n",
       "      <td>713</td>\n",
       "      <td>1</td>\n",
       "      <td>52</td>\n",
       "      <td>0</td>\n",
       "      <td>185891.54</td>\n",
       "      <td>1</td>\n",
       "      <td>1</td>\n",
       "      <td>1</td>\n",
       "      <td>46369.57</td>\n",
       "      <td>1</td>\n",
       "      <td>新客户</td>\n",
       "      <td>高资产</td>\n",
       "    </tr>\n",
       "    <tr>\n",
       "      <th>1</th>\n",
       "      <td>15553256</td>\n",
       "      <td>619</td>\n",
       "      <td>1</td>\n",
       "      <td>41</td>\n",
       "      <td>8</td>\n",
       "      <td>0.00</td>\n",
       "      <td>3</td>\n",
       "      <td>1</td>\n",
       "      <td>1</td>\n",
       "      <td>79866.73</td>\n",
       "      <td>1</td>\n",
       "      <td>老客户</td>\n",
       "      <td>低资产</td>\n",
       "    </tr>\n",
       "    <tr>\n",
       "      <th>2</th>\n",
       "      <td>15553283</td>\n",
       "      <td>603</td>\n",
       "      <td>1</td>\n",
       "      <td>42</td>\n",
       "      <td>8</td>\n",
       "      <td>91611.12</td>\n",
       "      <td>1</td>\n",
       "      <td>0</td>\n",
       "      <td>0</td>\n",
       "      <td>144675.30</td>\n",
       "      <td>1</td>\n",
       "      <td>老客户</td>\n",
       "      <td>中上资产</td>\n",
       "    </tr>\n",
       "    <tr>\n",
       "      <th>3</th>\n",
       "      <td>15553308</td>\n",
       "      <td>589</td>\n",
       "      <td>1</td>\n",
       "      <td>61</td>\n",
       "      <td>1</td>\n",
       "      <td>0.00</td>\n",
       "      <td>1</td>\n",
       "      <td>1</td>\n",
       "      <td>0</td>\n",
       "      <td>61108.56</td>\n",
       "      <td>1</td>\n",
       "      <td>新客户</td>\n",
       "      <td>低资产</td>\n",
       "    </tr>\n",
       "    <tr>\n",
       "      <th>4</th>\n",
       "      <td>15553387</td>\n",
       "      <td>687</td>\n",
       "      <td>1</td>\n",
       "      <td>39</td>\n",
       "      <td>2</td>\n",
       "      <td>0.00</td>\n",
       "      <td>3</td>\n",
       "      <td>0</td>\n",
       "      <td>0</td>\n",
       "      <td>188150.60</td>\n",
       "      <td>1</td>\n",
       "      <td>新客户</td>\n",
       "      <td>低资产</td>\n",
       "    </tr>\n",
       "  </tbody>\n",
       "</table>\n",
       "</div>"
      ],
      "text/plain": [
       "   CustomerId  CreditScore  Gender  Age  Tenure    Balance  NumOfProducts  \\\n",
       "0    15553251          713       1   52       0  185891.54              1   \n",
       "1    15553256          619       1   41       8       0.00              3   \n",
       "2    15553283          603       1   42       8   91611.12              1   \n",
       "3    15553308          589       1   61       1       0.00              1   \n",
       "4    15553387          687       1   39       2       0.00              3   \n",
       "\n",
       "   HasCrCard  IsActiveMember  EstimatedSalary  Exited Status AssetStage  \n",
       "0          1               1         46369.57       1    新客户        高资产  \n",
       "1          1               1         79866.73       1    老客户        低资产  \n",
       "2          0               0        144675.30       1    老客户       中上资产  \n",
       "3          1               0         61108.56       1    新客户        低资产  \n",
       "4          0               0        188150.60       1    新客户        低资产  "
      ]
     },
     "execution_count": 73,
     "metadata": {},
     "output_type": "execute_result"
    }
   ],
   "source": [
    "df_long.head()"
   ]
  },
  {
   "cell_type": "code",
   "execution_count": 74,
   "id": "b9b05499",
   "metadata": {},
   "outputs": [],
   "source": [
    "df_long.to_excel('../result/result3.xlsx', index=False)"
   ]
  },
  {
   "cell_type": "code",
   "execution_count": null,
   "id": "459ffbb5",
   "metadata": {},
   "outputs": [],
   "source": []
  },
  {
   "cell_type": "code",
   "execution_count": null,
   "id": "beb42c8d",
   "metadata": {},
   "outputs": [],
   "source": []
  },
  {
   "cell_type": "markdown",
   "id": "7d9d02d1",
   "metadata": {},
   "source": [
    "## 3.4(2)\n",
    "\n",
    "(2) 统计新、老客户在各资产阶段中流失的客户量，在同一画布中绘制热力\n",
    "图，热力图颜色的最大和最小取值设为 1300 和 100，并在报告中对结果进行必\n",
    "要分析。"
   ]
  },
  {
   "cell_type": "code",
   "execution_count": 75,
   "id": "198954fb",
   "metadata": {},
   "outputs": [
    {
     "data": {
      "text/html": [
       "<div>\n",
       "<style scoped>\n",
       "    .dataframe tbody tr th:only-of-type {\n",
       "        vertical-align: middle;\n",
       "    }\n",
       "\n",
       "    .dataframe tbody tr th {\n",
       "        vertical-align: top;\n",
       "    }\n",
       "\n",
       "    .dataframe thead th {\n",
       "        text-align: right;\n",
       "    }\n",
       "</style>\n",
       "<table border=\"1\" class=\"dataframe\">\n",
       "  <thead>\n",
       "    <tr style=\"text-align: right;\">\n",
       "      <th></th>\n",
       "      <th></th>\n",
       "      <th>Exited</th>\n",
       "    </tr>\n",
       "    <tr>\n",
       "      <th>Status</th>\n",
       "      <th>AssetStage</th>\n",
       "      <th></th>\n",
       "    </tr>\n",
       "  </thead>\n",
       "  <tbody>\n",
       "    <tr>\n",
       "      <th rowspan=\"4\" valign=\"top\">新客户</th>\n",
       "      <th>中上资产</th>\n",
       "      <td>181</td>\n",
       "    </tr>\n",
       "    <tr>\n",
       "      <th>中下资产</th>\n",
       "      <td>57</td>\n",
       "    </tr>\n",
       "    <tr>\n",
       "      <th>低资产</th>\n",
       "      <td>180</td>\n",
       "    </tr>\n",
       "    <tr>\n",
       "      <th>高资产</th>\n",
       "      <td>246</td>\n",
       "    </tr>\n",
       "    <tr>\n",
       "      <th rowspan=\"4\" valign=\"top\">稳定客户</th>\n",
       "      <th>中上资产</th>\n",
       "      <td>151</td>\n",
       "    </tr>\n",
       "    <tr>\n",
       "      <th>中下资产</th>\n",
       "      <td>51</td>\n",
       "    </tr>\n",
       "    <tr>\n",
       "      <th>低资产</th>\n",
       "      <td>152</td>\n",
       "    </tr>\n",
       "    <tr>\n",
       "      <th>高资产</th>\n",
       "      <td>206</td>\n",
       "    </tr>\n",
       "    <tr>\n",
       "      <th rowspan=\"4\" valign=\"top\">老客户</th>\n",
       "      <th>中上资产</th>\n",
       "      <td>175</td>\n",
       "    </tr>\n",
       "    <tr>\n",
       "      <th>中下资产</th>\n",
       "      <td>53</td>\n",
       "    </tr>\n",
       "    <tr>\n",
       "      <th>低资产</th>\n",
       "      <td>142</td>\n",
       "    </tr>\n",
       "    <tr>\n",
       "      <th>高资产</th>\n",
       "      <td>243</td>\n",
       "    </tr>\n",
       "  </tbody>\n",
       "</table>\n",
       "</div>"
      ],
      "text/plain": [
       "                   Exited\n",
       "Status AssetStage        \n",
       "新客户    中上资产           181\n",
       "       中下资产            57\n",
       "       低资产            180\n",
       "       高资产            246\n",
       "稳定客户   中上资产           151\n",
       "       中下资产            51\n",
       "       低资产            152\n",
       "       高资产            206\n",
       "老客户    中上资产           175\n",
       "       中下资产            53\n",
       "       低资产            142\n",
       "       高资产            243"
      ]
     },
     "execution_count": 75,
     "metadata": {},
     "output_type": "execute_result"
    }
   ],
   "source": [
    "df_long[['Status', 'AssetStage', 'Exited']].pivot_table(index=['Status', 'AssetStage'], aggfunc='sum')"
   ]
  },
  {
   "cell_type": "code",
   "execution_count": null,
   "id": "7f61621c",
   "metadata": {},
   "outputs": [],
   "source": []
  },
  {
   "cell_type": "code",
   "execution_count": null,
   "id": "b4f4fa80",
   "metadata": {},
   "outputs": [],
   "source": []
  }
 ],
 "metadata": {
  "kernelspec": {
   "display_name": "Python 3 (ipykernel)",
   "language": "python",
   "name": "python3"
  },
  "language_info": {
   "codemirror_mode": {
    "name": "ipython",
    "version": 3
   },
   "file_extension": ".py",
   "mimetype": "text/x-python",
   "name": "python",
   "nbconvert_exporter": "python",
   "pygments_lexer": "ipython3",
   "version": "3.9.13"
  }
 },
 "nbformat": 4,
 "nbformat_minor": 5
}
